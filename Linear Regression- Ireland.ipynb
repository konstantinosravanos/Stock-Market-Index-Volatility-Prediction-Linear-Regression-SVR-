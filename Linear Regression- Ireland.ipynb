{
 "cells": [
  {
   "metadata": {},
   "cell_type": "markdown",
   "source": "# <span style=\"color:yellow\">ΚΑΘΟΡΙΣΜΟΣ ΤΟΥ DIRECTORY ΟΠΟΥ ΒΡΙΣΚΕΤΑΙ ΤΟ ΑΡΧΕΙΟ",
   "id": "c81bbea228f3720e"
  },
  {
   "metadata": {
    "ExecuteTime": {
     "end_time": "2025-05-08T09:56:17.016804Z",
     "start_time": "2025-05-08T09:56:17.010206Z"
    }
   },
   "cell_type": "code",
   "source": "pwd #Καθορίζει το path file του αρχείου που εκτελείται",
   "id": "dbb147a24d520936",
   "outputs": [
    {
     "data": {
      "text/plain": [
       "'C:\\\\Users\\\\Kosta\\\\Python_Projects\\\\JupyterProject'"
      ]
     },
     "execution_count": 1,
     "metadata": {},
     "output_type": "execute_result"
    }
   ],
   "execution_count": 1
  },
  {
   "metadata": {},
   "cell_type": "markdown",
   "source": "# <span style=\"color:yellow\">ΕΙΣΑΓΩΓΗ ΤΩΝ ΑΠΑΡΑΙΤΡΗΤΩΝ ΒΙΒΛΙΟΘΗΚΩΝ ΓΙΑ ΤΗΝ ΕΚΤΕΛΕΣΗ ΤΟΥ ΚΩΔΙΚΑ",
   "id": "a55b56a76da5b799"
  },
  {
   "metadata": {
    "ExecuteTime": {
     "end_time": "2025-05-08T09:56:28.895030Z",
     "start_time": "2025-05-08T09:56:28.306528Z"
    }
   },
   "cell_type": "code",
   "source": [
    "#Βιβλιοθήκες για την εισαγωγή και επεξεργασία των δεδομένων\n",
    "import warnings\n",
    "import numpy as np\n",
    "import pandas as pd\n",
    "\n",
    "#Βιβλιοθήκες για την εκτύπωση των διαγραμμάτων\n",
    "import seaborn as sns\n",
    "import matplotlib.cm as cm\n",
    "import plotly.express as px\n",
    "import matplotlib.pyplot as plt\n",
    "import plotly.graph_objects as go\n",
    "from plotly.subplots import make_subplots\n",
    "\n",
    "#Βιβλιοθήκες για εκπαίδευση μοντέλων μηχανικής μάθησης\n",
    "from arch import arch_model\n",
    "import statsmodels.api as sm\n",
    "from scipy.stats import zscore\n",
    "from sklearn.preprocessing import StandardScaler\n",
    "from sklearn.linear_model import LinearRegression\n",
    "from sklearn.metrics import mean_squared_error, r2_score"
   ],
   "id": "94ca27a1c509fad2",
   "outputs": [],
   "execution_count": 2
  },
  {
   "metadata": {},
   "cell_type": "markdown",
   "source": "# <span style=\"color:yellow\">ΚΑΘΟΡΙΣΜΟΣ ΑΚΡΙΒΕΙΑΣ ΤΟΥ ΜΟΝΤΕΛΟΥ",
   "id": "f6cd9d007f657b8b"
  },
  {
   "metadata": {
    "ExecuteTime": {
     "end_time": "2025-05-08T09:56:29.763018Z",
     "start_time": "2025-05-08T09:56:29.756690Z"
    }
   },
   "cell_type": "code",
   "source": [
    "#Καθορισμός ακριβείας του μοντέλου\n",
    "pd.set_option(\"display.precision\", 2)"
   ],
   "id": "d2eef1438aa5f481",
   "outputs": [],
   "execution_count": 3
  },
  {
   "metadata": {},
   "cell_type": "markdown",
   "source": "# <span style=\"color:yellow\">ΕΙΣΑΓΩΓΗ ΚΑΙ ΕΠΕΞΕΡΓΑΣΙΑ ΤΟΥ ΑΡΧΕΙΟΥ ΠΟΥ ΕΙΝΑΙ ΑΠΑΡΑΙΤΗΤΟ ΓΙΑ ΤΗΝ ΕΚΤΕΛΕΣΗ ΤΟΥ ΑΛΓΟΡΙΘΜΟΥ",
   "id": "1b6616f57d492e73"
  },
  {
   "metadata": {
    "ExecuteTime": {
     "end_time": "2025-05-08T09:56:31.401557Z",
     "start_time": "2025-05-08T09:56:30.565551Z"
    }
   },
   "cell_type": "code",
   "source": [
    "#Αναγνώριση του αρχείου και εισαγωγή του στο πρόγραμμα\n",
    "df = pd.read_excel('../FINAL_DATA/Ireland_Values.xlsx')\n",
    "\n",
    "#Δημιουργία DataFrame\n",
    "df.head()\n",
    "\n",
    "#Δίνει την εκτύπωση των πέντε πρώτων στηλών των δεδομένων\n",
    "print(df.head())"
   ],
   "id": "c2ece02c3e4ecfba",
   "outputs": [
    {
     "ename": "FileNotFoundError",
     "evalue": "[Errno 2] No such file or directory: '../FINAL_DATA/Greece_Values.xlsx'",
     "output_type": "error",
     "traceback": [
      "\u001B[31m---------------------------------------------------------------------------\u001B[39m",
      "\u001B[31mFileNotFoundError\u001B[39m                         Traceback (most recent call last)",
      "\u001B[36mCell\u001B[39m\u001B[36m \u001B[39m\u001B[32mIn[4]\u001B[39m\u001B[32m, line 2\u001B[39m\n\u001B[32m      1\u001B[39m \u001B[38;5;66;03m#Αναγνώριση του αρχείου και εισαγωγή του στο πρόγραμμα\u001B[39;00m\n\u001B[32m----> \u001B[39m\u001B[32m2\u001B[39m df = \u001B[43mpd\u001B[49m\u001B[43m.\u001B[49m\u001B[43mread_excel\u001B[49m\u001B[43m(\u001B[49m\u001B[33;43m'\u001B[39;49m\u001B[33;43m../FINAL_DATA/Greece_Values.xlsx\u001B[39;49m\u001B[33;43m'\u001B[39;49m\u001B[43m)\u001B[49m\n\u001B[32m      4\u001B[39m \u001B[38;5;66;03m#Δημιουργία DataFrame\u001B[39;00m\n\u001B[32m      5\u001B[39m df.head()\n",
      "\u001B[36mFile \u001B[39m\u001B[32m~\\miniconda3\\Lib\\site-packages\\pandas\\io\\excel\\_base.py:495\u001B[39m, in \u001B[36mread_excel\u001B[39m\u001B[34m(io, sheet_name, header, names, index_col, usecols, dtype, engine, converters, true_values, false_values, skiprows, nrows, na_values, keep_default_na, na_filter, verbose, parse_dates, date_parser, date_format, thousands, decimal, comment, skipfooter, storage_options, dtype_backend, engine_kwargs)\u001B[39m\n\u001B[32m    493\u001B[39m \u001B[38;5;28;01mif\u001B[39;00m \u001B[38;5;129;01mnot\u001B[39;00m \u001B[38;5;28misinstance\u001B[39m(io, ExcelFile):\n\u001B[32m    494\u001B[39m     should_close = \u001B[38;5;28;01mTrue\u001B[39;00m\n\u001B[32m--> \u001B[39m\u001B[32m495\u001B[39m     io = \u001B[43mExcelFile\u001B[49m\u001B[43m(\u001B[49m\n\u001B[32m    496\u001B[39m \u001B[43m        \u001B[49m\u001B[43mio\u001B[49m\u001B[43m,\u001B[49m\n\u001B[32m    497\u001B[39m \u001B[43m        \u001B[49m\u001B[43mstorage_options\u001B[49m\u001B[43m=\u001B[49m\u001B[43mstorage_options\u001B[49m\u001B[43m,\u001B[49m\n\u001B[32m    498\u001B[39m \u001B[43m        \u001B[49m\u001B[43mengine\u001B[49m\u001B[43m=\u001B[49m\u001B[43mengine\u001B[49m\u001B[43m,\u001B[49m\n\u001B[32m    499\u001B[39m \u001B[43m        \u001B[49m\u001B[43mengine_kwargs\u001B[49m\u001B[43m=\u001B[49m\u001B[43mengine_kwargs\u001B[49m\u001B[43m,\u001B[49m\n\u001B[32m    500\u001B[39m \u001B[43m    \u001B[49m\u001B[43m)\u001B[49m\n\u001B[32m    501\u001B[39m \u001B[38;5;28;01melif\u001B[39;00m engine \u001B[38;5;129;01mand\u001B[39;00m engine != io.engine:\n\u001B[32m    502\u001B[39m     \u001B[38;5;28;01mraise\u001B[39;00m \u001B[38;5;167;01mValueError\u001B[39;00m(\n\u001B[32m    503\u001B[39m         \u001B[33m\"\u001B[39m\u001B[33mEngine should not be specified when passing \u001B[39m\u001B[33m\"\u001B[39m\n\u001B[32m    504\u001B[39m         \u001B[33m\"\u001B[39m\u001B[33man ExcelFile - ExcelFile already has the engine set\u001B[39m\u001B[33m\"\u001B[39m\n\u001B[32m    505\u001B[39m     )\n",
      "\u001B[36mFile \u001B[39m\u001B[32m~\\miniconda3\\Lib\\site-packages\\pandas\\io\\excel\\_base.py:1550\u001B[39m, in \u001B[36mExcelFile.__init__\u001B[39m\u001B[34m(self, path_or_buffer, engine, storage_options, engine_kwargs)\u001B[39m\n\u001B[32m   1548\u001B[39m     ext = \u001B[33m\"\u001B[39m\u001B[33mxls\u001B[39m\u001B[33m\"\u001B[39m\n\u001B[32m   1549\u001B[39m \u001B[38;5;28;01melse\u001B[39;00m:\n\u001B[32m-> \u001B[39m\u001B[32m1550\u001B[39m     ext = \u001B[43minspect_excel_format\u001B[49m\u001B[43m(\u001B[49m\n\u001B[32m   1551\u001B[39m \u001B[43m        \u001B[49m\u001B[43mcontent_or_path\u001B[49m\u001B[43m=\u001B[49m\u001B[43mpath_or_buffer\u001B[49m\u001B[43m,\u001B[49m\u001B[43m \u001B[49m\u001B[43mstorage_options\u001B[49m\u001B[43m=\u001B[49m\u001B[43mstorage_options\u001B[49m\n\u001B[32m   1552\u001B[39m \u001B[43m    \u001B[49m\u001B[43m)\u001B[49m\n\u001B[32m   1553\u001B[39m     \u001B[38;5;28;01mif\u001B[39;00m ext \u001B[38;5;129;01mis\u001B[39;00m \u001B[38;5;28;01mNone\u001B[39;00m:\n\u001B[32m   1554\u001B[39m         \u001B[38;5;28;01mraise\u001B[39;00m \u001B[38;5;167;01mValueError\u001B[39;00m(\n\u001B[32m   1555\u001B[39m             \u001B[33m\"\u001B[39m\u001B[33mExcel file format cannot be determined, you must specify \u001B[39m\u001B[33m\"\u001B[39m\n\u001B[32m   1556\u001B[39m             \u001B[33m\"\u001B[39m\u001B[33man engine manually.\u001B[39m\u001B[33m\"\u001B[39m\n\u001B[32m   1557\u001B[39m         )\n",
      "\u001B[36mFile \u001B[39m\u001B[32m~\\miniconda3\\Lib\\site-packages\\pandas\\io\\excel\\_base.py:1402\u001B[39m, in \u001B[36minspect_excel_format\u001B[39m\u001B[34m(content_or_path, storage_options)\u001B[39m\n\u001B[32m   1399\u001B[39m \u001B[38;5;28;01mif\u001B[39;00m \u001B[38;5;28misinstance\u001B[39m(content_or_path, \u001B[38;5;28mbytes\u001B[39m):\n\u001B[32m   1400\u001B[39m     content_or_path = BytesIO(content_or_path)\n\u001B[32m-> \u001B[39m\u001B[32m1402\u001B[39m \u001B[38;5;28;01mwith\u001B[39;00m \u001B[43mget_handle\u001B[49m\u001B[43m(\u001B[49m\n\u001B[32m   1403\u001B[39m \u001B[43m    \u001B[49m\u001B[43mcontent_or_path\u001B[49m\u001B[43m,\u001B[49m\u001B[43m \u001B[49m\u001B[33;43m\"\u001B[39;49m\u001B[33;43mrb\u001B[39;49m\u001B[33;43m\"\u001B[39;49m\u001B[43m,\u001B[49m\u001B[43m \u001B[49m\u001B[43mstorage_options\u001B[49m\u001B[43m=\u001B[49m\u001B[43mstorage_options\u001B[49m\u001B[43m,\u001B[49m\u001B[43m \u001B[49m\u001B[43mis_text\u001B[49m\u001B[43m=\u001B[49m\u001B[38;5;28;43;01mFalse\u001B[39;49;00m\n\u001B[32m   1404\u001B[39m \u001B[43m\u001B[49m\u001B[43m)\u001B[49m \u001B[38;5;28;01mas\u001B[39;00m handle:\n\u001B[32m   1405\u001B[39m     stream = handle.handle\n\u001B[32m   1406\u001B[39m     stream.seek(\u001B[32m0\u001B[39m)\n",
      "\u001B[36mFile \u001B[39m\u001B[32m~\\miniconda3\\Lib\\site-packages\\pandas\\io\\common.py:882\u001B[39m, in \u001B[36mget_handle\u001B[39m\u001B[34m(path_or_buf, mode, encoding, compression, memory_map, is_text, errors, storage_options)\u001B[39m\n\u001B[32m    873\u001B[39m         handle = \u001B[38;5;28mopen\u001B[39m(\n\u001B[32m    874\u001B[39m             handle,\n\u001B[32m    875\u001B[39m             ioargs.mode,\n\u001B[32m   (...)\u001B[39m\u001B[32m    878\u001B[39m             newline=\u001B[33m\"\u001B[39m\u001B[33m\"\u001B[39m,\n\u001B[32m    879\u001B[39m         )\n\u001B[32m    880\u001B[39m     \u001B[38;5;28;01melse\u001B[39;00m:\n\u001B[32m    881\u001B[39m         \u001B[38;5;66;03m# Binary mode\u001B[39;00m\n\u001B[32m--> \u001B[39m\u001B[32m882\u001B[39m         handle = \u001B[38;5;28;43mopen\u001B[39;49m\u001B[43m(\u001B[49m\u001B[43mhandle\u001B[49m\u001B[43m,\u001B[49m\u001B[43m \u001B[49m\u001B[43mioargs\u001B[49m\u001B[43m.\u001B[49m\u001B[43mmode\u001B[49m\u001B[43m)\u001B[49m\n\u001B[32m    883\u001B[39m     handles.append(handle)\n\u001B[32m    885\u001B[39m \u001B[38;5;66;03m# Convert BytesIO or file objects passed with an encoding\u001B[39;00m\n",
      "\u001B[31mFileNotFoundError\u001B[39m: [Errno 2] No such file or directory: '../FINAL_DATA/Greece_Values.xlsx'"
     ]
    }
   ],
   "execution_count": 4
  },
  {
   "metadata": {},
   "cell_type": "markdown",
   "source": "# <span style=\"color:yellow\">ΣΥΝΟΠΤΙΚΗ ΠΑΡΟΥΣΙΑΣΗ ΤΩΝ ΔΕΔΟΜΕΝΩΝ",
   "id": "d577d2c227916881"
  },
  {
   "metadata": {},
   "cell_type": "code",
   "outputs": [],
   "execution_count": null,
   "source": [
    "#Επιστρέφει το σύνολο των γραμμών του αρχείου στο οποίο βρίσκονται τα δεδομένα\n",
    "len(df)"
   ],
   "id": "2526d46c81c72ff4"
  },
  {
   "metadata": {},
   "cell_type": "code",
   "outputs": [],
   "execution_count": null,
   "source": [
    "#Επιστρέφει τα ονόματα των στηλών του αρχείου στο οποίο βρίσκονται τα δεδομένα\n",
    "df.columns"
   ],
   "id": "9afae37dd7605f99"
  },
  {
   "metadata": {},
   "cell_type": "code",
   "outputs": [],
   "execution_count": null,
   "source": [
    "# Υποθέτουμε ότι το DataFrame ονομάζεται 'data'\n",
    "total_values = df.size  # Επιστρέφει το σύνολο όλων των τιμών στο DataFrame\n",
    "print(f\"Σύνολο δεδομένων στο DataFrame: {total_values}\")"
   ],
   "id": "3eb51900e14278ce"
  },
  {
   "metadata": {},
   "cell_type": "code",
   "outputs": [],
   "execution_count": null,
   "source": [
    "#Δίνει τον τύπο των δεδομένων που περιέχονται στις στήλες του αρχείου. To dataset αποτελείται από 9 στήλες από τις οποίες οι οκτώ περιέχουν αριθμητικά δεδομένα και η μια ημερομηνία\n",
    "df.dtypes"
   ],
   "id": "cef37a9d4733d018"
  },
  {
   "metadata": {},
   "cell_type": "code",
   "outputs": [],
   "execution_count": null,
   "source": [
    "# Εκτυπώνει το όνομα των στηλών και τον τύπο των δεδομένων που περιέχουν\n",
    "df.info()"
   ],
   "id": "375e070150b5f400"
  },
  {
   "metadata": {},
   "cell_type": "code",
   "outputs": [],
   "execution_count": null,
   "source": [
    "#Εκτυπώνει το είδος της κάθε μεταβλητής του dataset\n",
    "print(df.dtypes)"
   ],
   "id": "de36fb38cadcb3af"
  },
  {
   "metadata": {},
   "cell_type": "code",
   "outputs": [],
   "execution_count": null,
   "source": [
    "#Δίνει τον πίνακα συσχέτισης των μεταβλητών του dataset\n",
    "df.corr()"
   ],
   "id": "7bbabbcf5ec3df83"
  },
  {
   "metadata": {},
   "cell_type": "markdown",
   "source": "# <span style=\"color:yellow\">ΠΡΟΕΤΟΙΜΑΣΙΑ ΤΩΝ ΔΕΟΔΜΕΝΩΝ",
   "id": "a071b4311d051a19"
  },
  {
   "metadata": {},
   "cell_type": "code",
   "outputs": [],
   "execution_count": null,
   "source": [
    "# Έλεγχος για ελλείπουσες τιμές\n",
    "missing_values = df.isnull().sum()\n",
    "\n",
    "# Εμφάνιση των αποτελεσμάτων\n",
    "print(\"Ελλείπουσες τιμές ανά στήλη:\")\n",
    "print(missing_values)"
   ],
   "id": "e8ac34934d675ad5"
  },
  {
   "metadata": {},
   "cell_type": "code",
   "outputs": [],
   "execution_count": null,
   "source": [
    "# Υπολογισμός Z-Scores για αριθμητικές στήλες\n",
    "z_scores = df.select_dtypes(include=[np.number]).apply(zscore)\n",
    "\n",
    "# Καθορισμός ακραιών τιμών (π.χ., όριο Z-Score > |3|)\n",
    "threshold = 3\n",
    "outliers = (z_scores.abs() > threshold)\n",
    "\n",
    "# Εμφάνιση ακραίων τιμών\n",
    "print(\"Ακραιες τιμές ανά στήλη:\")\n",
    "for column in outliers.columns:\n",
    "    print(f\"\\nΣτήλη: {column}\")\n",
    "    print(df.loc[outliers[column], column])"
   ],
   "id": "96ea67489f1055ec"
  },
  {
   "metadata": {},
   "cell_type": "code",
   "outputs": [],
   "execution_count": null,
   "source": [
    "# Φιλτράρισμα δεδομένων για απομάκρυνση γραμμών με ακραίες τιμές\n",
    "df_without_outliers = df[~(z_scores.abs() > threshold).any(axis=1)]\n",
    "\n",
    "print(\"\\nDataFrame μετά την αφαίρεση ακραίων τιμών:\")\n",
    "print(df_without_outliers)"
   ],
   "id": "3d0e7f06b486c33"
  },
  {
   "metadata": {},
   "cell_type": "code",
   "outputs": [],
   "execution_count": null,
   "source": [
    "# Μετατροπή της στήλης 'Date' σε datetime format\n",
    "df['Date'] = pd.to_datetime(df['Date'], format='%Y-%m-%d',\n",
    "                            errors='coerce')  # Προσαρμόστε το format ανάλογα με τη μορφή της ημερομηνίας σας\n",
    "\n",
    "# Έλεγχος αν η μετατροπή ήταν επιτυχής\n",
    "print(df['Date'].head())\n",
    "\n",
    "# Προαιρετικά: Ρύθμιση της στήλης 'Date' ως index\n",
    "df.set_index('Date', inplace=True)\n",
    "\n",
    "# Έλεγχος του DataFrame\n",
    "print(df.head())"
   ],
   "id": "6cb8ca45d74d56c5"
  },
  {
   "metadata": {},
   "cell_type": "code",
   "outputs": [],
   "execution_count": null,
   "source": [
    "df.index # Output: DatetimeIndex([...], dtype='datetime64[ns]', freq=None)\n",
    "\n",
    "df = df.sort_index()\n",
    "# Το index ταξινομείται, και το DataFrame είναι έτοιμο για χρήση ταξινομημένο.\n",
    "\n",
    "print(df.head())"
   ],
   "id": "36960c631a2987e9"
  },
  {
   "metadata": {},
   "cell_type": "markdown",
   "source": "# <span style=\"color:yellow\">Προετοιμασία δεδομένων και κανονικοποίηση",
   "id": "75462a6e59ad5420"
  },
  {
   "metadata": {},
   "cell_type": "code",
   "outputs": [],
   "execution_count": null,
   "source": [
    "# Επιλογή αριθμητικών στηλών για κανονικοποίηση\n",
    "numeric_columns = df.select_dtypes(include=[np.number])\n",
    "\n",
    "# Εφαρμογή κανονικοποίησης Z-Score\n",
    "df_normalized = numeric_columns.apply(zscore)\n",
    "\n",
    "# Επιστροφή μη αριθμητικών στηλών στο τελικό DataFrame (αν υπάρχουν)\n",
    "for col in df.select_dtypes(exclude=[np.number]).columns:\n",
    "    df_normalized[col] = df[col]\n",
    "\n",
    "# Επισκόπηση κανονικοποιημένου DataFrame\n",
    "print(\"Κανονικοποιημένα δεδομένα (Z-Score):\")\n",
    "print(df_normalized.head())"
   ],
   "id": "682a802b2fab94e2"
  },
  {
   "metadata": {},
   "cell_type": "markdown",
   "source": "# <span style=\"color:yellow\">Δημιουργία Χρονικών Υστερήσεων (Lagged Variables)",
   "id": "8f6e65647d740b6"
  },
  {
   "metadata": {},
   "cell_type": "code",
   "outputs": [],
   "execution_count": null,
   "source": [
    "# Ορισμός των χρονικών υστερήσεων (lags) που θέλουμε\n",
    "lags = [7, 14, 21]  # Οι υστερήσεις που απαιτούνται\n",
    "\n",
    "# Επιλογή των αριθμητικών στηλών στο DataFrame\n",
    "columns_to_lag = df.select_dtypes(include=[np.number]).columns  # Μόνο οι αριθμητικές στήλες\n",
    "\n",
    "# Δημιουργία νέου DataFrame για τις lagged μεταβλητές\n",
    "lagged_data = pd.DataFrame(index=df.index)  # Διατηρούμε το ίδιο index\n",
    "\n",
    "# Δημιουργία lagged μεταβλητών για κάθε επιλεγμένη στήλη\n",
    "for col in columns_to_lag:\n",
    "    for lag in lags:\n",
    "        lagged_data[f\"{col}_lag_{lag}\"] = df[col].shift(lag)\n",
    "\n",
    "# Ενοποίηση του αρχικού DataFrame με τις lagged μεταβλητές\n",
    "df = pd.concat([df, lagged_data], axis=1)\n",
    "\n",
    "# Αφαίρεση των γραμμών που περιέχουν NaN λόγω των χρονικών υστερήσεων\n",
    "df.dropna(inplace=True)\n",
    "\n",
    "# Επισκόπηση του τελικού DataFrame\n",
    "print(\"\\nDataFrame με υστερήσεις 7, 14, 21 ημερών:\")\n",
    "print(df.head())  # Εκτύπωση των πρώτων γραμμών για έλεγχο"
   ],
   "id": "b01997c1fd91b24e"
  },
  {
   "metadata": {},
   "cell_type": "markdown",
   "source": "# <span style=\"color:yellow\">Διαχωρισμός 80% για Training, 20% για Test",
   "id": "f6ad28a83c1bc0c0"
  },
  {
   "metadata": {},
   "cell_type": "code",
   "outputs": [],
   "execution_count": null,
   "source": [
    "# Υπολογισμός του ορίου για το διαχωρισμό (80% για Training, 20% για Test)\n",
    "train_size = int(len(df) * 0.8)  # Στρογγυλοποίηση για τα πρώτα 80%\n",
    "\n",
    "# Διαχωρισμός δεδομένων\n",
    "train_data = df.iloc[:train_size]  # Τα παλαιότερα δεδομένα (80%) για εκπαίδευση\n",
    "test_data = df.iloc[train_size:]  # Τα πιο πρόσφατα δεδομένα (20%) για δοκιμές\n",
    "\n",
    "# Επισκόπηση μεγεθών\n",
    "print(f\"Μέγεθος Training Set: {train_data.shape}\")\n",
    "print(f\"Μέγεθος Test Set: {test_data.shape}\")\n",
    "\n",
    "# Έλεγχος τιμών στο Training και Test Set\n",
    "print(\"\\nΠρώτες γραμμές του Training Set:\")\n",
    "print(train_data.head())\n",
    "\n",
    "print(\"\\nΠρώτες γραμμές του Test Set:\")\n",
    "print(test_data.head())"
   ],
   "id": "47b830d7682dc581"
  },
  {
   "metadata": {},
   "cell_type": "markdown",
   "source": "# <span style=\"color:yellow\">Linear Regression",
   "id": "213b5cf981728821"
  },
  {
   "metadata": {},
   "cell_type": "code",
   "outputs": [],
   "execution_count": null,
   "source": [
    "# Βεβαιωθείτε ότι η μεταβλητή \"7-Day Standard Deviation of Daily Returns\" υπάρχει στο DataFrame\n",
    "dependent_var = \"7- Day Standard Deviation of Daily Returns\""
   ],
   "id": "547eee42abc7c3b5"
  },
  {
   "metadata": {},
   "cell_type": "code",
   "outputs": [],
   "execution_count": null,
   "source": [
    "# Δημιουργία της μήτρας των χαρακτηριστικών (X) και της εξαρτημένης μεταβλητής (y)\n",
    "X = df.drop(columns=[dependent_var])  # Όλα τα υπόλοιπα χαρακτηριστικά εκτός της εξαρτημένης μεταβλητής\n",
    "y = df[dependent_var]  # Εξαρτημένη μεταβλητή"
   ],
   "id": "c1399014e46be956"
  },
  {
   "metadata": {},
   "cell_type": "code",
   "outputs": [],
   "execution_count": null,
   "source": [
    "# Διαχωρισμός δεδομένων σε Training και Test (όπως προηγουμένως)\n",
    "train_size = int(len(df) * 0.8)\n",
    "X_train, X_test = X.iloc[:train_size], X.iloc[train_size:]\n",
    "y_train, y_test = y.iloc[:train_size], y.iloc[train_size:]"
   ],
   "id": "e62364b390cc1128"
  },
  {
   "metadata": {},
   "cell_type": "code",
   "outputs": [],
   "execution_count": null,
   "source": [
    "# Δημιουργία του μοντέλου γραμμικής παλινδρόμησης\n",
    "model = LinearRegression()"
   ],
   "id": "40a627261e91830d"
  },
  {
   "metadata": {},
   "cell_type": "code",
   "outputs": [],
   "execution_count": null,
   "source": [
    "# Εκπαίδευση του μοντέλου\n",
    "model.fit(X_train, y_train)"
   ],
   "id": "218ce956dfd38c44"
  },
  {
   "metadata": {},
   "cell_type": "code",
   "outputs": [],
   "execution_count": null,
   "source": [
    "# Πρόβλεψη στο Train Set\n",
    "y_train_pred = model.predict(X_train)\n",
    "\n",
    "# Εκτύπωση των αποτελεσμάτων πρόβλεψης\n",
    "print(\"Προβλέψεις για το Train Set:\")\n",
    "print(y_train_pred)"
   ],
   "id": "b827f5fc69b73a32"
  },
  {
   "metadata": {},
   "cell_type": "code",
   "outputs": [],
   "execution_count": null,
   "source": [
    "# Πρόβλεψη στο Test Set\n",
    "y_pred = model.predict(X_test)\n",
    "\n",
    "# Εκτύπωση των αποτελεσμάτων πρόβλεψης\n",
    "print(\"Προβλέψεις για το Test Set:\")\n",
    "print(y_pred)"
   ],
   "id": "ffb35eb0f2a14b1f"
  },
  {
   "metadata": {},
   "cell_type": "code",
   "outputs": [],
   "execution_count": null,
   "source": [
    "# Εκτύπωση των παραμέτρων του μοντέλου\n",
    "coefficients = pd.DataFrame({\"Feature\": X.columns, \"Coefficient\": model.coef_})\n",
    "print(\"\\nΣυντελεστές γραμμικής παλινδρόμησης:\")\n",
    "print(coefficients.sort_values(by=\"Coefficient\", ascending=False))\n",
    "\n",
    "# Save coefficients DataFrame to an Excel file\n",
    "coefficients.to_excel(\"linear_regression_coefficients.xlsx\", index=False)"
   ],
   "id": "39b0b671ec6359db"
  },
  {
   "metadata": {},
   "cell_type": "markdown",
   "source": "# <span style=\"color:yellow\">Μετρικές Αξιολόγησης Linear Regression (y_train)",
   "id": "5c3d84ba58234020"
  },
  {
   "metadata": {},
   "cell_type": "code",
   "outputs": [],
   "execution_count": null,
   "source": [
    "# Υπολογισμός μετρικών για το Training Dataset\n",
    "mse_train = mean_squared_error(y_train, y_train_pred)\n",
    "rmse_train = np.sqrt(mse_train)\n",
    "r2_train = r2_score(y_train, y_train_pred)\n",
    "\n",
    "print(f\"Training Mean Squared Error (MSE): {mse_train}\")\n",
    "print(f\"Training Root Mean Squared Error (RMSE): {rmse_train}\")\n",
    "print(f\"Training R² Score: {r2_train}\")\n",
    "\n",
    "# Δημιουργία DataFrame για τις μετρικές\n",
    "metrics_df = pd.DataFrame({\n",
    "    \"Metric\": [\"Mean Squared Error (MSE)\", \"Root Mean Squared Error (RMSE)\", \"R² Score\"],\n",
    "    \"Value\": [mse_train, rmse_train, r2_train]\n",
    "})\n",
    "\n",
    "# Αποθήκευση των μετρικών σε αρχείο Excel\n",
    "metrics_df.to_excel(\"training_metrics-train.xlsx\", index=False)"
   ],
   "id": "69bc8fef8a2cc24a"
  },
  {
   "metadata": {},
   "cell_type": "markdown",
   "source": "# <span style=\"color:yellow\">Μετρικές Αξιολόγησης Linear Regression (y_test)",
   "id": "5c95dd70ee670ee2"
  },
  {
   "metadata": {},
   "cell_type": "code",
   "outputs": [],
   "execution_count": null,
   "source": [
    "# Αξιολόγηση του μοντέλου\n",
    "mse = mean_squared_error(y_test, y_pred)  # Μέσο Τετραγωνικό Σφάλμα (Mean Squared Error)\n",
    "r2 = r2_score(y_test, y_pred)  # R^2 score, δείκτης προσαρμογής\n",
    "rmse = np.sqrt(mse) # Υπολογισμός του Root Mean Squared Error (RMSE)\n",
    "\n",
    "# Εκτύπωση μετρικών απόδοσης\n",
    "print(f\"Mean Squared Error (MSE): {mse}\")\n",
    "print(f\"R^2 Score: {r2}\")\n",
    "print(f\"Root Mean Squared Error (RMSE): {rmse}\")\n",
    "\n",
    "# Δημιουργία DataFrame για τις μετρικές\n",
    "metrics_df = pd.DataFrame({\n",
    "    \"Metric\": [\"Mean Squared Error (MSE)\", \"Root Mean Squared Error (RMSE)\", \"R² Score\"],\n",
    "    \"Value\": [mse, rmse, r2]\n",
    "})\n",
    "\n",
    "# Αποθήκευση των μετρικών σε αρχείο Excel\n",
    "metrics_df.to_excel(\"training_metrics-test.xlsx\", index=False)"
   ],
   "id": "e9199b92d49e6e6"
  },
  {
   "metadata": {},
   "cell_type": "markdown",
   "source": "# <span style=\"color:yellow\">Πρόβλεψη για τις επόμενες 7 ημέρες",
   "id": "b67da9fae6ac47c9"
  },
  {
   "metadata": {},
   "cell_type": "code",
   "outputs": [],
   "execution_count": null,
   "source": [
    "# Βάση δεδομένων: παίρνουμε τα πιο πρόσφατα δεδομένα από το Test Set για να υπολογίσουμε τις νέες τιμές\n",
    "new_predictions = []  # Λίστα για να αποθηκεύσουμε τις προβλέψεις\n",
    "\n",
    "latest_row = df.iloc[-1].copy()  # Παίρνουμε την τελευταία γραμμή δεδομένων του DataFrame ως βάση\n",
    "latest_row.name = df.index[-1]  # Κρατάμε το index για τις νέες προβλέψεις\n",
    "\n",
    "# Βρίσκουμε την τελευταία ημερομηνία στο index\n",
    "last_date = df.index[-1]\n",
    "\n",
    "# Δημιουργία ημερομηνιών για τις επόμενες 7 ημέρες\n",
    "future_dates = pd.date_range(start=last_date + pd.Timedelta(days=1), periods=7, freq=\"D\")\n",
    "\n",
    "# Δημιουργία δεδομένων για τις επόμενες 7 ημέρες\n",
    "for i in range(7):\n",
    "    # Προσθήκη των lagged μεταβλητών για κάθε αριθμητική στήλη\n",
    "    for col in df.select_dtypes(include=[np.number]).columns:\n",
    "        for lag in [7, 14, 21]:  # Τα lags που χρησιμοποιήθηκαν στο αρχικό μοντέλο\n",
    "            lagged_value_name = f\"{col}_lag_{lag}\"\n",
    "\n",
    "            # Εισαγωγή της τελευταίας προϋπάρχουσας τιμής στο νέο row\n",
    "            if lagged_value_name in df.columns:\n",
    "                # Αναμένεται να πάρει τιμή από το τελευταίο observation\n",
    "                if len(new_predictions) >= lag:  # Αρκεί το lag να έχει υπάρξει στις προηγούμενες προβλέψεις\n",
    "                    latest_row[lagged_value_name] = new_predictions[-lag]\n",
    "                else:\n",
    "                    latest_row[lagged_value_name] = latest_row[col]  # Εναλλακτική: η πιο πρόσφατη τιμή\n",
    "\n",
    "    # Πρόβλεψη χρησιμοποιώντας το εκπαιδευμένο μοντέλο\n",
    "    prediction = model.predict(latest_row.drop(dependent_var).to_frame().T)\n",
    "    # Χρησιμοποιούμε όλα τα χαρακτηριστικά εκτός της εξαρτημένης μεταβλητής\n",
    "    new_predictions.append(prediction[0])  # Αποθηκεύουμε την πρόβλεψη\n",
    "\n",
    "    # Προσθήκη της πρόβλεψης στη νέα γραμμή για χρήση στις επόμενες προβλέψεις\n",
    "    latest_row[dependent_var] = prediction[0]\n",
    "\n",
    "# Συνδυασμός ημερομηνιών και προβλέψεων σε ένα DataFrame\n",
    "predictions_df = pd.DataFrame({\n",
    "    \"Date\": future_dates,\n",
    "    \"Prediction\": new_predictions\n",
    "})\n",
    "\n",
    "# Εμφάνιση των προβλέψεων με ημερομηνίες\n",
    "print(\"Προβλέψεις για τις επόμενες 7 ημέρες:\\n\", predictions_df)"
   ],
   "id": "1afe2f6f36ad1b32"
  },
  {
   "metadata": {},
   "cell_type": "markdown",
   "source": "# <span style=\"color:yellow\">Οπτικοποίηση Αποτελεσμάτων",
   "id": "15079764ee0b0960"
  },
  {
   "metadata": {},
   "cell_type": "code",
   "outputs": [],
   "execution_count": null,
   "source": [
    "# Δημιουργία του διαγράμματος\n",
    "plt.figure(figsize=(12, 6))\n",
    "\n",
    "# Προβολή των πραγματικών τιμών (y_train) στο διάγραμμα\n",
    "plt.plot(y_train.values, label=\"Πραγματικές Τιμές (Training Set)\", color=\"blue\", linestyle=\"-\")\n",
    "\n",
    "# Προβολή των προβλέψεων του μοντέλου (y_train_pred) στο διάγραμμα\n",
    "plt.plot(y_train_pred, label=\"Προβλέψεις (Training Set)\", color=\"green\", linestyle=\"-\")\n",
    "\n",
    "# Προσθήκη τίτλου και ετικετών\n",
    "plt.title(\"Σύγκριση Πραγματικών Τιμών και Προβλέψεων (Training Set)\", fontsize=14)\n",
    "plt.xlabel(\"Αριθμός Παρατήρησης\", fontsize=12)\n",
    "plt.ylabel(\"Τιμή\", fontsize=12)\n",
    "\n",
    "# Προσθήκη υπομνήματος\n",
    "plt.legend()\n",
    "\n",
    "# Εμφάνιση πλέγματος\n",
    "plt.grid(alpha=0.4)\n",
    "\n",
    "# Εμφάνιση του διαγράμματος\n",
    "plt.show()"
   ],
   "id": "b3affea97a21d95e"
  },
  {
   "metadata": {},
   "cell_type": "code",
   "outputs": [],
   "execution_count": null,
   "source": [
    "# Δημιουργία του διαγράμματος\n",
    "plt.figure(figsize=(12, 6))\n",
    "\n",
    "# Προβολή των πραγματικών τιμών (y_test) στο διάγραμμα\n",
    "plt.plot(y_test.values, label=\"Πραγματικές Τιμές\", color=\"blue\", linestyle=\"-\")\n",
    "\n",
    "# Προβολή των προβλέψεων του μοντέλου (y_pred) στο διάγραμμα\n",
    "plt.plot(y_pred, label=\"Προβλέψεις\", color=\"orange\", linestyle=\"-\")\n",
    "\n",
    "# Προσθήκη τίτλου και ετικετών\n",
    "plt.title(\"Σύγκριση Πραγματικών Τιμών και Προβλέψεων\", fontsize=14)\n",
    "plt.xlabel(\"Αριθμός Παρατήρησης\", fontsize=12)\n",
    "plt.ylabel(\"Τιμή\", fontsize=12)\n",
    "\n",
    "# Προσθήκη υπομνήματος\n",
    "plt.legend()\n",
    "\n",
    "# Εμφάνιση πλέγματος\n",
    "plt.grid(alpha=0.4)\n",
    "\n",
    "# Εμφάνιση του διαγράμματος\n",
    "plt.show()"
   ],
   "id": "71f7598c797ca287"
  },
  {
   "metadata": {},
   "cell_type": "code",
   "outputs": [],
   "execution_count": null,
   "source": [
    "# Υπολογισμός των σφαλμάτων πρόβλεψης (Residuals) για το Training Set\n",
    "residuals_train = y_train.values - y_train_pred\n",
    "\n",
    "# Διάγραμμα Διασποράς για τα Σφάλματα Πρόβλεψης (Training Set)\n",
    "plt.figure(figsize=(12, 6))\n",
    "\n",
    "# Scatter Plot των Σφαλμάτων\n",
    "plt.scatter(range(len(residuals_train)), residuals_train, color=\"purple\", alpha=0.6,\n",
    "            label=\"Σφάλματα Πρόβλεψης (Residuals - Training Set)\")\n",
    "\n",
    "# Χωριστή γραμμή για το μηδέν (Zero Line)\n",
    "plt.axhline(y=0, color=\"red\", linestyle=\"--\", label=\"Μηδενική Γραμμή (Zero Line)\")\n",
    "\n",
    "# Προσθήκη τίτλου και ετικετών\n",
    "plt.title(\"Διάγραμμα Σφαλμάτων Πρόβλεψης - Training Set\", fontsize=14)\n",
    "plt.xlabel(\"Αριθμός Παρατήρησης\", fontsize=12)\n",
    "plt.ylabel(\"Σφάλμα (Residual)\", fontsize=12)\n",
    "\n",
    "# Προσθήκη Υπομνήματος\n",
    "plt.legend()\n",
    "\n",
    "# Εμφάνιση πλέγματος\n",
    "plt.grid(alpha=0.4)\n",
    "\n",
    "# Εμφάνιση του Διαγράμματος\n",
    "plt.show()\n",
    "\n",
    "# Διάγραμμα Γραμμής για την Εξέλιξη των Σφαλμάτων (Training Set)\n",
    "plt.figure(figsize=(12, 6))\n",
    "\n",
    "# Line Plot για την Εξέλιξη των Σφαλμάτων\n",
    "plt.plot(residuals_train, color=\"orange\", label=\"Σφάλματα Πρόβλεψης (Residuals - Training Set)\", linewidth=2)\n",
    "\n",
    "# Χωριστή γραμμή για το μηδέν (Zero Line)\n",
    "plt.axhline(y=0, color=\"red\", linestyle=\"-\", label=\"Μηδενική Γραμμή (Zero Line)\")\n",
    "\n",
    "# Προσθήκη τίτλου και ετικετών\n",
    "plt.title(\"Χρονική Εξέλιξη Σφαλμάτων Πρόβλεψης - Training Set\", fontsize=14)\n",
    "plt.xlabel(\"Αριθμός Παρατήρησης\", fontsize=12)\n",
    "plt.ylabel(\"Σφάλμα (Residual)\", fontsize=12)\n",
    "\n",
    "# Προσθήκη Υπομνήματος\n",
    "plt.legend()\n",
    "\n",
    "# Εμφάνιση Πλέγματος\n",
    "plt.grid(alpha=0.4)\n",
    "\n",
    "# Εμφάνιση του Διαγράμματος\n",
    "plt.show()"
   ],
   "id": "804ee4b830062d24"
  },
  {
   "metadata": {},
   "cell_type": "code",
   "outputs": [],
   "execution_count": null,
   "source": [
    "# Υπολογισμός των σφαλμάτων πρόβλεψης (Residuals)\n",
    "residuals = y_test.values - y_pred\n",
    "\n",
    "# Διάγραμμα Διασποράς για τα Σφάλματα Πρόβλεψης\n",
    "plt.figure(figsize=(12, 6))\n",
    "\n",
    "# Scatter Plot των Σφάλμάτων\n",
    "plt.scatter(range(len(residuals)), residuals, color=\"purple\", alpha=0.6, label=\"Σφάλματα Πρόβλεψης (Residuals)\")\n",
    "\n",
    "# Χωριστή γραμμή για το μηδέν (Zero Line)\n",
    "plt.axhline(y=0, color=\"red\", linestyle=\"--\", label=\"Μηδενική Γραμμή (Zero Line)\")\n",
    "\n",
    "# Προσθήκη τίτλου και ετικετών\n",
    "plt.title(\"Διάγραμμα Σφαλμάτων Πρόβλεψης (Residuals) - AR Model\", fontsize=14)\n",
    "plt.xlabel(\"Αριθμός Παρατήρησης\", fontsize=12)\n",
    "plt.ylabel(\"Σφάλμα (Residual)\", fontsize=12)\n",
    "\n",
    "# Προσθήκη Υπομνήματος\n",
    "plt.legend()\n",
    "\n",
    "# Εμφάνιση πλέγματος\n",
    "plt.grid(alpha=0.4)\n",
    "\n",
    "# Εμφάνιση του Διαγράμματος\n",
    "plt.show()\n",
    "\n",
    "# Διάγραμμα Γραμμής για την Εξέλιξη των Σφαλμάτων\n",
    "plt.figure(figsize=(12, 6))\n",
    "\n",
    "# Line Plot για την Εξέλιξη των Σφαλμάτων\n",
    "plt.plot(residuals, color=\"orange\", label=\"Σφάλματα Πρόβλεψης (Residuals)\", linewidth=2)\n",
    "\n",
    "# Χωριστή γραμμή για το μηδέν (Zero Line)\n",
    "plt.axhline(y=0, color=\"red\", linestyle=\"--\", label=\"Μηδενική Γραμμή (Zero Line)\")\n",
    "\n",
    "# Προσθήκη τίτλου και ετικετών\n",
    "plt.title(\"Χρονική Εξέλιξη Σφαλμάτων Πρόβλεψης - AR Model\", fontsize=14)\n",
    "plt.xlabel(\"Αριθμός Παρατήρησης\", fontsize=12)\n",
    "plt.ylabel(\"Σφάλμα (Residual)\", fontsize=12)\n",
    "\n",
    "# Προσθήκη Υπομνήματος\n",
    "plt.legend()\n",
    "\n",
    "# Εμφάνιση Πλέγματος\n",
    "plt.grid(alpha=0.4)\n",
    "\n",
    "# Εμφάνιση του Διαγράμματος\n",
    "plt.show()"
   ],
   "id": "a488d3f0f5a23faa"
  },
  {
   "metadata": {},
   "cell_type": "code",
   "outputs": [],
   "execution_count": null,
   "source": [
    "# Φιλτράρισμα του Test Set για δεδομένα από το 2023-11-01 και μετά\n",
    "test_data_filtered = test_data[test_data.index >= \"2023-11-01\"]\n",
    "\n",
    "# Φιλτράρισμα των Προβλέψεων για αυτές τις ημερομηνίες\n",
    "predictions_filtered = predictions_df[predictions_df['Date'] >= \"2023-11-01\"].set_index('Date')\n",
    "\n",
    "# Δημιουργία ενιαίου DataFrame για Παρατηρήσεις και Προβλέψεις\n",
    "# Αντιγραφή δεδομένων Test Set και προσθήκη Προβλέψεων στις κατάλληλες θέσεις\n",
    "test_data_with_predictions = test_data_filtered.copy()\n",
    "for date, value in predictions_filtered['Prediction'].items():  # Χρήση της items() αντί για iteritems()\n",
    "    test_data_with_predictions.loc[date] = value\n",
    "\n",
    "\n",
    "# Ταξινόμηση δεδομένων με βάση την ημερομηνία\n",
    "test_data_with_predictions.sort_index(inplace=True)\n",
    "\n",
    "# Διάγραμμα: Ενιαία μπλε γραμμή και Προβλέψεις με Bullets\n",
    "plt.figure(figsize=(16, 8))\n",
    "\n",
    "# Ενιαία Γραμμή για Παρατηρήσεις και Προβλέψεις\n",
    "plt.plot(test_data_with_predictions.index, test_data_with_predictions[dependent_var],\n",
    "         linestyle='-', color=\"blue\", linewidth=2, label=\"Παρατηρήσεις και Προβλέψεις\")\n",
    "\n",
    "# Bullets για τις Προβλέψεις - Τοποθετούνται πάνω στη μπλε γραμμή\n",
    "plt.scatter(predictions_filtered.index, predictions_filtered['Prediction'],\n",
    "            color=\"orange\", label=\"Προβλέψεις (Bullets)\", s=80, zorder=3)\n",
    "\n",
    "# Προσθήκη τίτλων, υπόμνημα και αξόνων\n",
    "plt.title(\"Ενιαία Γραμμή Παρατηρήσεων και Προβλέψεων\", fontsize=18, fontweight='bold')\n",
    "plt.xlabel(\"Ημερομηνία\", fontsize=15)\n",
    "plt.ylabel(\"Τιμή\", fontsize=15)\n",
    "plt.xticks(rotation=45, fontsize=12)\n",
    "plt.yticks(fontsize=12)\n",
    "plt.grid(True, linestyle='--', alpha=0.6)\n",
    "plt.legend(fontsize=14, loc=\"upper left\")\n",
    "\n",
    "# Βελτιστοποίηση διάταξης\n",
    "plt.tight_layout()\n",
    "\n",
    "# Εμφάνιση διαγράμματος\n",
    "plt.show()"
   ],
   "id": "cd122e175470469"
  },
  {
   "metadata": {},
   "cell_type": "code",
   "outputs": [],
   "execution_count": null,
   "source": [
    "# Διάγραμμα Προβλέψεων\n",
    "plt.figure(figsize=(10, 6))\n",
    "plt.plot(predictions_df['Date'], predictions_df['Prediction'], marker='o', label=\"Προβλέψεις για τις επόμενες 7 ημέρες\",\n",
    "         linestyle='-')\n",
    "\n",
    "# Προσθήκη τίτλων, ετικετών και υπόμνημα\n",
    "plt.title(\"Προβλέψεις για τις επόμενες 7 ημέρες\", fontsize=16)\n",
    "plt.xlabel(\"Ημερομηνία\", fontsize=14)\n",
    "plt.ylabel(\"Πρόβλεψη\", fontsize=14)\n",
    "plt.xticks(rotation=45)\n",
    "plt.grid(True)\n",
    "plt.legend()\n",
    "plt.show()"
   ],
   "id": "3d3d06599731adbe"
  },
  {
   "metadata": {},
   "cell_type": "code",
   "outputs": [],
   "execution_count": null,
   "source": [
    "# Επιλέγουμε τα δεδομένα μόνο για τις τελευταίες 7 παρατηρήσεις\n",
    "actual_last_7 = y_test.values[-7:]  # Οι πραγματικές τιμές για τις τελευταίες 7 ημέρες\n",
    "predicted_last_7 = y_pred[-7:]  # Οι προβλέψεις για τις τελευταίες 7 ημέρες\n",
    "\n",
    "# Δημιουργία διαγράμματος\n",
    "plt.figure(figsize=(10, 6))\n",
    "\n",
    "# Οπτικοποίηση των πραγματικών τιμών (τελευταίες 7 ημέρες)\n",
    "plt.plot(range(1, 8), actual_last_7, label='Πραγματικές Τιμές', color='blue', linestyle='-', marker='o', linewidth=2)\n",
    "\n",
    "# Οπτικοποίηση των προβλέψεων (τελευταίες 7 ημέρες)\n",
    "plt.plot(range(1, 8), predicted_last_7, label='Προβλέψεις', color='red', linestyle='--', marker='x', linewidth=2)\n",
    "\n",
    "# Προσθήκη τίτλου και ετικετών\n",
    "plt.title('Σύγκριση Προβλέψεων με Πραγματικές Τιμές - Τελευταίες 7 Ημέρες', fontsize=14)\n",
    "plt.xlabel('Ημέρα', fontsize=12)\n",
    "plt.xticks(range(1, 8), labels=[f'Ημέρα {i}' for i in range(1, 8)])  # Ονόματα για τις τελευταίες 7 ημέρες\n",
    "plt.ylabel('Μεταβλητότητα', fontsize=12)\n",
    "\n",
    "# Προσθήκη πλέγματος\n",
    "plt.grid(alpha=0.4)\n",
    "\n",
    "# Προσθήκη υπομνήματος\n",
    "plt.legend(fontsize=12)\n",
    "\n",
    "# Εμφάνιση του διαγράμματος\n",
    "plt.show()"
   ],
   "id": "4876823c6891332a"
  }
 ],
 "metadata": {},
 "nbformat": 4,
 "nbformat_minor": 5
}
