{
 "cells": [
  {
   "metadata": {},
   "cell_type": "markdown",
   "source": "# <span style=\"color:yellow\">ΚΑΘΟΡΙΣΜΟΣ ΤΟΥ DIRECTORY ΟΠΟΥ ΒΡΙΣΚΕΤΑΙ ΤΟ ΑΡΧΕΙΟ",
   "id": "cd36861d1b1a87a1"
  },
  {
   "metadata": {},
   "cell_type": "code",
   "outputs": [],
   "execution_count": null,
   "source": "pwd #Καθορίζει το path file του αρχείου που εκτελείται",
   "id": "6714b13ec72b7476"
  },
  {
   "metadata": {},
   "cell_type": "markdown",
   "source": "# <span style=\"color:yellow\">ΕΙΣΑΓΩΓΗ ΤΩΝ ΑΠΑΡΑΙΤΡΗΤΩΝ ΒΙΒΛΙΟΘΗΚΩΝ ΓΙΑ ΤΗΝ ΕΚΤΕΛΕΣΗ ΤΟΥ ΚΩΔΙΚΑ\n",
   "id": "d8cf917950c3d999"
  },
  {
   "metadata": {},
   "cell_type": "code",
   "outputs": [],
   "execution_count": null,
   "source": [
    "#Βιβλιοθήκες για την εισαγωγή και επεξεργασία των δεδομένων\n",
    "import warnings\n",
    "import numpy as np\n",
    "import pandas as pd\n",
    "\n",
    "#Βιβλιοθήκες για την εκτύπωση των διαγραμμάτων\n",
    "import seaborn as sns\n",
    "import matplotlib.cm as cm\n",
    "import plotly.express as px\n",
    "import matplotlib.pyplot as plt\n",
    "import plotly.graph_objects as go\n",
    "from plotly.subplots import make_subplots\n",
    "\n",
    "#Βιβλιοθήκες για εκπαίδευση μοντέλων μηχανικής μάθησης\n",
    "from sklearn.svm import SVR\n",
    "from arch import arch_model\n",
    "import statsmodels.api as sm\n",
    "from scipy.stats import zscore\n",
    "from sklearn.preprocessing import StandardScaler\n",
    "from sklearn.linear_model import LinearRegression\n",
    "from sklearn.metrics import mean_squared_error, r2_score"
   ],
   "id": "4b85ca39ba8d5abf"
  },
  {
   "metadata": {},
   "cell_type": "markdown",
   "source": "# <span style=\"color:yellow\">ΚΑΘΟΡΙΣΜΟΣ ΑΚΡΙΒΕΙΑΣ ΤΟΥ ΜΟΝΤΕΛΟΥ",
   "id": "f007c08487445a42"
  },
  {
   "metadata": {},
   "cell_type": "code",
   "outputs": [],
   "execution_count": null,
   "source": [
    "#Καθορισμός ακριβείας του μοντέλου\n",
    "pd.set_option(\"display.precision\", 2)"
   ],
   "id": "da08f430b027ca2c"
  },
  {
   "metadata": {},
   "cell_type": "markdown",
   "source": "# <span style=\"color:yellow\">ΕΙΣΑΓΩΓΗ ΚΑΙ ΕΠΕΞΕΡΓΑΣΙΑ ΤΟΥ ΑΡΧΕΙΟΥ ΠΟΥ ΕΙΝΑΙ ΑΠΑΡΑΙΤΗΤΟ ΓΙΑ ΤΗΝ ΕΚΤΕΛΕΣΗ ΤΟΥ ΑΛΓΟΡΙΘΜΟΥ",
   "id": "a38bca03f94aad6f"
  },
  {
   "metadata": {},
   "cell_type": "code",
   "outputs": [],
   "execution_count": null,
   "source": [
    "#Αναγνώριση του αρχείου και εισαγωγή του στο πρόγραμμα\n",
    "df = pd.read_excel('../FINAL_DATA/Ireland_Values.xlsx')\n",
    "\n",
    "#Δημιουργία DataFrame\n",
    "df.head()\n",
    "\n",
    "#Δίνει την εκτύπωση των πέντε πρώτων στηλών των δεδομένων\n",
    "print(df.head())"
   ],
   "id": "4e8f269ad671327f"
  },
  {
   "metadata": {},
   "cell_type": "markdown",
   "source": "# <span style=\"color:yellow\">ΣΥΝΟΠΤΙΚΗ ΠΑΡΟΥΣΙΑΣΗ ΤΩΝ ΔΕΔΟΜΕΝΩΝ",
   "id": "28a1c897cbf838b7"
  },
  {
   "metadata": {},
   "cell_type": "code",
   "outputs": [],
   "execution_count": null,
   "source": [
    "#Επιστρέφει το σύνολο των γραμμών του αρχείου στο οποίο βρίσκονται τα δεδομένα\n",
    "len(df)"
   ],
   "id": "6fc32f067e8392b2"
  },
  {
   "metadata": {},
   "cell_type": "code",
   "outputs": [],
   "execution_count": null,
   "source": [
    "#Επιστρέφει τα ονόματα των στηλών του αρχείου στο οποίο βρίσκονται τα δεδομένα\n",
    "df.columns"
   ],
   "id": "e77677608a234b68"
  },
  {
   "metadata": {},
   "cell_type": "code",
   "outputs": [],
   "execution_count": null,
   "source": [
    "# Επιστρέφει το σύνολο όλων των τιμών στο DataFrame\n",
    "total_values = df.size\n",
    "\n",
    "#Aυτή η γραμμή κώδικα εκτυπώνει το συνολικό πλήθος των δεδομένων που περιέχονται στο `DataFrame`\n",
    "print(f\"Σύνολο δεδομένων στο DataFrame: {total_values}\")"
   ],
   "id": "1c2354c90448af43"
  },
  {
   "metadata": {},
   "cell_type": "code",
   "outputs": [],
   "execution_count": null,
   "source": [
    "#Δίνει τον τύπο των δεδομένων που περιέχονται στις στήλες του αρχείου. To dataset αποτελείται από 11 στήλες από τις οποίες οι δέκα περιέχουν αριθμητικά δεδομένα και η μια ημερομηνία\n",
    "df.dtypes"
   ],
   "id": "1ef19ac81d780d8a"
  },
  {
   "metadata": {},
   "cell_type": "code",
   "outputs": [],
   "execution_count": null,
   "source": [
    "# Εκτυπώνει το όνομα των στηλών και τον τύπο των δεδομένων που περιέχουν\n",
    "df.info()"
   ],
   "id": "d9d537605af32b69"
  },
  {
   "metadata": {},
   "cell_type": "code",
   "outputs": [],
   "execution_count": null,
   "source": [
    "#Εκτυπώνει το είδος της κάθε μεταβλητής του dataset\n",
    "print(df.dtypes)"
   ],
   "id": "6ab0b38c74065604"
  },
  {
   "metadata": {},
   "cell_type": "code",
   "outputs": [],
   "execution_count": null,
   "source": [
    "#Δίνει τον πίνακα συσχέτισης των μεταβλητών του dataset\n",
    "df.corr()"
   ],
   "id": "54ffaf1145b9724d"
  },
  {
   "metadata": {},
   "cell_type": "markdown",
   "source": "# <span style=\"color:yellow\">ΠΡΟΕΤΟΙΜΑΣΙΑ ΤΩΝ ΔΕΟΔΜΕΝΩΝ",
   "id": "87f09880c6a5fbb7"
  },
  {
   "metadata": {},
   "cell_type": "code",
   "outputs": [],
   "execution_count": null,
   "source": [
    "# Έλεγχος για ελλείπουσες τιμές (NaN)\n",
    "missing_values = df.isnull().sum()\n",
    "\n",
    "# Εμφάνιση των αποτελεσμάτων\n",
    "print(\"Ελλείπουσες τιμές ανά στήλη:\")\n",
    "print(missing_values)"
   ],
   "id": "1c404701d787180b"
  },
  {
   "metadata": {},
   "cell_type": "code",
   "outputs": [],
   "execution_count": null,
   "source": [
    "# Υπολογισμός Z-Scores για αριθμητικές στήλες\n",
    "z_scores = df.select_dtypes(include=[np.number]).apply(zscore)\n",
    "\n",
    "# Καθορισμός ακραιών τιμών (π.χ., όριο Z-Score > |3|)\n",
    "threshold = 3\n",
    "outliers = (z_scores.abs() > threshold)\n",
    "\n",
    "# Εμφάνιση ακραίων τιμών\n",
    "print(\"Ακραιες τιμές ανά στήλη:\")\n",
    "for column in outliers.columns:\n",
    "    print(f\"\\nΣτήλη: {column}\")\n",
    "    print(df.loc[outliers[column], column])"
   ],
   "id": "38283ae93047b1dc"
  },
  {
   "metadata": {},
   "cell_type": "code",
   "outputs": [],
   "execution_count": null,
   "source": [
    "# Φιλτράρισμα δεδομένων για απομάκρυνση γραμμών με ακραίες τιμές\n",
    "df_without_outliers = df[~(z_scores.abs() > threshold).any(axis=1)]\n",
    "\n",
    "# Εμφάνιση του περιεχομένου του DataFrame μετά την αφαίρεση των ακραίων τιμών\n",
    "print(\"\\nDataFrame μετά την αφαίρεση ακραίων τιμών:\")\n",
    "print(df_without_outliers)"
   ],
   "id": "666c48d0175ee2ae"
  },
  {
   "metadata": {},
   "cell_type": "code",
   "outputs": [],
   "execution_count": null,
   "source": [
    "# Μετατροπή της στήλης 'Date' σε datetime format\n",
    "df['Date'] = pd.to_datetime(df['Date'], format='%Y-%m-%d',\n",
    "                            errors='coerce')  # Προσαρμόστε το format ανάλογα με τη μορφή της ημερομηνίας σας\n",
    "\n",
    "# Έλεγχος αν η μετατροπή ήταν επιτυχής\n",
    "print(df['Date'].head())\n",
    "\n",
    "# Προαιρετικά: Ρύθμιση της στήλης 'Date' ως index\n",
    "df.set_index('Date', inplace=True)\n",
    "\n",
    "# Έλεγχος του DataFrame\n",
    "print(df.head())"
   ],
   "id": "eae3d7363f690a0b"
  },
  {
   "metadata": {},
   "cell_type": "code",
   "outputs": [],
   "execution_count": null,
   "source": [
    "# Χρησιμοποιείται το index του DataFrame, το οποίο είναι τύπου DatetimeIndex.\n",
    "df.index\n",
    "\n",
    "# Το DataFrame ταξινομείται με βάση το index του σε αύξουσα σειρά.\n",
    "df = df.sort_index()\n",
    "\n",
    "# Εκτυπώνονται οι πρώτες γραμμές του ταξινομημένου DataFrame για επισκόπηση.\n",
    "print(df.head())"
   ],
   "id": "e7f49190d1fdadce"
  },
  {
   "metadata": {},
   "cell_type": "markdown",
   "source": "# <span style=\"color:yellow\">Δημιουργία Χρονικών Υστερήσεων (Lagged Variables)",
   "id": "71efdb7d7e59296e"
  },
  {
   "metadata": {},
   "cell_type": "code",
   "outputs": [],
   "execution_count": null,
   "source": [
    "# Ορισμός των χρονικών υστερήσεων (lags) που θέλουμε\n",
    "lags = [7, 14, 21]  #\n",
    "\n",
    "# Επιλογή των αριθμητικών στηλών στο DataFrame\n",
    "columns_to_lag = df.select_dtypes(include=[np.number]).columns\n",
    "\n",
    "# Δημιουργία νέου DataFrame για τις lagged μεταβλητές\n",
    "lagged_data = pd.DataFrame(index=df.index)\n",
    "\n",
    "# Δημιουργία lagged μεταβλητών για κάθε επιλεγμένη στήλη\n",
    "for col in columns_to_lag:\n",
    "    for lag in lags:\n",
    "        lagged_data[f\"{col}_lag_{lag}\"] = df[col].shift(lag)\n",
    "\n",
    "# Ενοποίηση του αρχικού DataFrame με τις lagged μεταβλητές\n",
    "df = pd.concat([df, lagged_data], axis=1)\n",
    "\n",
    "# Αφαίρεση των γραμμών που περιέχουν NaN λόγω των χρονικών υστερήσεων\n",
    "df.dropna(inplace=True)\n",
    "\n",
    "# Επισκόπηση του τελικού DataFrame\n",
    "print(\"\\nDataFrame με υστερήσεις 7, 14, 21 ημερών:\")\n",
    "print(df.head())"
   ],
   "id": "7d93d126076d6f88"
  },
  {
   "metadata": {},
   "cell_type": "markdown",
   "source": "# <span style=\"color:yellow\">Καθορισμός Μεταβλητών Μοντέλου SVR",
   "id": "552799077c4e8439"
  },
  {
   "metadata": {},
   "cell_type": "code",
   "outputs": [],
   "execution_count": null,
   "source": [
    "# Καθορισμός της εξαρτημένης μεταβλητής (μεταβλητότητα)\n",
    "dependent_var = \"7- Day Standard Deviation of Daily Returns\""
   ],
   "id": "d67d84215efa8cd1"
  },
  {
   "metadata": {},
   "cell_type": "code",
   "outputs": [],
   "execution_count": null,
   "source": [
    "# Δημιουργία του X (independent) και y (dependent)\n",
    "X = df.drop(columns=[dependent_var])\n",
    "y = df[dependent_var]"
   ],
   "id": "4d699a5e7bb8965e"
  },
  {
   "metadata": {},
   "cell_type": "markdown",
   "source": "# <span style=\"color:yellow\">Διαχωρισμός σε train (80%) - test (20%) split",
   "id": "af9ace7f915cb2ab"
  },
  {
   "metadata": {},
   "cell_type": "code",
   "outputs": [],
   "execution_count": null,
   "source": [
    "# Το 80% των δεδομένων χρησιμοποιείται για εκπαίδευση\n",
    "train_size = int(len(df) * 0.8)\n",
    "\n",
    "# Διαχωρισμός χαρακτηριστικών σε train και test set\n",
    "X_train, X_test = X.iloc[:train_size], X.iloc[train_size:]\n",
    "\n",
    "# Διαχωρισμός target μεταβλητής σε train και test set\n",
    "y_train, y_test = y.iloc[:train_size], y.iloc[train_size:]\n",
    "\n",
    "\n",
    "# Επισκόπηση μεγεθών των training και test set.\n",
    "print(f\"Μέγεθος X_train: {X_train.shape}\")\n",
    "print(f\"Μέγεθος X_test: {X_test.shape}\")\n",
    "print(f\"Μέγεθος y_train: {y_train.shape}\")\n",
    "print(f\"Μέγεθος y_test: {y_test.shape}\")\n",
    "\n",
    "\n",
    "# Εκτύπωση τιμών στο Training και Test Set\n",
    "print(\"\\nΠρώτες γραμμές του X_train:\")\n",
    "print(X_train.head())\n",
    "\n",
    "print(\"\\nΠρώτες γραμμές του X_test:\")\n",
    "print(X_test.head())"
   ],
   "id": "f781a177b5c78d13"
  },
  {
   "metadata": {},
   "cell_type": "markdown",
   "source": "# <span style=\"color:yellow\">Κανονικοποίηση Δεδομένων",
   "id": "90bab9cb2bec589f"
  },
  {
   "metadata": {},
   "cell_type": "code",
   "outputs": [],
   "execution_count": null,
   "source": [
    "# Υπολογισμός μέσου όρου και τυπικής απόκλισης\n",
    "X_train_mean = X_train.mean()\n",
    "X_train_std = X_train.std()\n",
    "\n",
    "# Κανονικοποίηση δεδομένων\n",
    "X_train = (X_train - X_train_mean) / X_train_std\n",
    "X_test = (X_test - X_train_mean) / X_train_std\n",
    "\n",
    "# Εκτύπωση αποτελεσμάτων\n",
    "print(\"Μέσος όρος των χαρακτηριστικών του X_train:\")\n",
    "print(X_train_mean)\n",
    "\n",
    "print(\"\\nΤυπική απόκλιση των χαρακτηριστικών του X_train:\")\n",
    "print(X_train_std)\n",
    "\n",
    "print(\"\\nΠρώτες 5 γραμμές του κανονικοποιημένου X_train:\")\n",
    "print(X_train.head())\n",
    "\n",
    "print(\"\\nΠρώτες 5 γραμμές του κανονικοποιημένου X_test:\")\n",
    "print(X_test.head())"
   ],
   "id": "96d18bc904faeefa"
  },
  {
   "metadata": {},
   "cell_type": "markdown",
   "source": "# <span style=\"color:yellow\">Support Vector Regression Model (SVR)",
   "id": "63815367aecde9bd"
  },
  {
   "metadata": {},
   "cell_type": "code",
   "outputs": [],
   "execution_count": null,
   "source": [
    "# Δημιουργία του μοντέλου SVR\n",
    "model= svr = SVR(kernel=\"linear\", C=1.0)  # Χρησιμοποιείται γραμμικός πυρήνας"
   ],
   "id": "b13f5ab63928b10d"
  },
  {
   "metadata": {},
   "cell_type": "code",
   "outputs": [],
   "execution_count": null,
   "source": [
    "# Εκπαίδευση του μοντέλου SVR\n",
    "svr.fit(X_train, y_train)"
   ],
   "id": "8c337b4328e5b9f7"
  },
  {
   "metadata": {},
   "cell_type": "code",
   "outputs": [],
   "execution_count": null,
   "source": [
    "# Πρόβλεψη στο Training Set\n",
    "y_train_pred = svr.predict(X_train)\n",
    "\n",
    "# Εκτύπωση των πρώτων 10 αποτελεσμάτων της πρόβλεψης\n",
    "print(\"Προβλέψεις για το X_train:\")\n",
    "print(y_train_pred[:10])"
   ],
   "id": "f58a64599990c910"
  },
  {
   "metadata": {},
   "cell_type": "code",
   "outputs": [],
   "execution_count": null,
   "source": [
    "# Πρόβλεψη αποτελεσμάτων για το X_test\n",
    "y_pred = svr.predict(X_test)\n",
    "\n",
    "# Εκτύπωση των πρώτων 10 αποτελεσμάτων της πρόβλεψης\n",
    "print(\"Προβλέψεις για το X_test:\")\n",
    "print(y_pred[:10])"
   ],
   "id": "1cd9fce834f483d"
  },
  {
   "metadata": {},
   "cell_type": "markdown",
   "source": "# <span style=\"color:yellow\">Support Vector Regression Model (y_train)",
   "id": "c6878c1e10113730"
  },
  {
   "metadata": {},
   "cell_type": "code",
   "outputs": [],
   "execution_count": null,
   "source": [
    "# Υπολογισμός μετρικών αξιολόγησης\n",
    "mse_train = mean_squared_error(y_train, y_train_pred)\n",
    "rmse_train = np.sqrt(mse_train)\n",
    "r2_train = r2_score(y_train, y_train_pred)\n",
    "\n",
    "# Εκτύπωση αποτελεσμάτων αξιολόγησης\n",
    "print(\"Αξιολόγηση στο Training Set:\")\n",
    "print(f\"Mean Squared Error (MSE): {mse_train:.4f}\")\n",
    "print(f\"Root Mean Squared Error (RMSE): {rmse_train:.4f}\")\n",
    "print(f\"R^2 Score: {r2_train:.4f}\")\n",
    "\n",
    "# Δημιουργία DataFrame για τις μετρικές\n",
    "metrics_df = pd.DataFrame({\n",
    "    \"Metric\": [\"Mean Squared Error (MSE)\", \"Root Mean Squared Error (RMSE)\", \"R² Score\"],\n",
    "    \"Value\": [mse_train, rmse_train, r2_train]\n",
    "})\n",
    "\n",
    "# Αποθήκευση των μετρικών σε αρχείο Excel\n",
    "metrics_df.to_excel(\"training_metrics-train.xlsx\", index=False)"
   ],
   "id": "95b9d8f6d77c2c12"
  },
  {
   "metadata": {},
   "cell_type": "markdown",
   "source": "# <span style=\"color:yellow\">Support Vector Regression Model (y_test)",
   "id": "9ac7470a61edc9b2"
  },
  {
   "metadata": {},
   "cell_type": "code",
   "outputs": [],
   "execution_count": null,
   "source": [
    "# Υπολογισμός των μετρικών αξιολόγησης του μοντέλου SVR\n",
    "mse = mean_squared_error(y_test, y_pred)\n",
    "rmse = np.sqrt(mse)\n",
    "r2 = r2_score(y_test, y_pred)\n",
    "\n",
    "# Εκτύπωση των αποτελεσμάτων\n",
    "print(\"Αξιολόγηση στο Test Set:\")\n",
    "print(f\"Mean Squared Error (MSE): {mse:.3f}\")\n",
    "print(f\"Root Mean Squared Error (RMSE): {rmse:.3f}\")\n",
    "print(f\"R² Score: {r2:.3f}\")\n",
    "\n",
    "# Δημιουργία DataFrame για τις μετρικές\n",
    "metrics_df = pd.DataFrame({\n",
    "    \"Metric\": [\"Mean Squared Error (MSE)\", \"Root Mean Squared Error (RMSE)\", \"R² Score\"],\n",
    "    \"Value\": [mse, rmse, r2]\n",
    "})\n",
    "\n",
    "# Αποθήκευση των μετρικών σε αρχείο Excel\n",
    "metrics_df.to_excel(\"training_metrics-test.xlsx\", index=False)"
   ],
   "id": "e60597423e3f6aad"
  },
  {
   "metadata": {},
   "cell_type": "markdown",
   "source": "# <span style=\"color:yellow\">Πρόβλεψη για τις επόμενες 7 ημέρες",
   "id": "86947e081c903d72"
  },
  {
   "metadata": {},
   "cell_type": "code",
   "outputs": [],
   "execution_count": null,
   "source": [
    "# Εισαγωγή της τελευταίας γραμμής από το dataset\n",
    "latest_features = X_test.iloc[-1].copy()\n",
    "\n",
    "# Καθαρισμός της γραμμής από NaN τιμές (αντικατάσταση με 0)\n",
    "latest_features.fillna(0, inplace=True)\n",
    "\n",
    "print(\"Καθαρισμένη Τελευταία Γραμμή από το X_test (latest_features):\")\n",
    "print(latest_features)"
   ],
   "id": "625c5568ebcf3894"
  },
  {
   "metadata": {},
   "cell_type": "code",
   "outputs": [],
   "execution_count": null,
   "source": [
    "# Πίνακας για νέα δεδομένα, δημιουργούνται 7 ημερομηνίες\n",
    "future_dates = pd.date_range(start=df.index[-1] + pd.Timedelta(days=1), periods=7, freq=\"D\")\n",
    "\n",
    "# Εκτύπωση για τον έλεγχο των μελλοντικών ημερομηνιών\n",
    "print(\"Νέες ημερομηνίες για τις προβλέψεις:\")\n",
    "print(future_dates)\n",
    "\n",
    "# Αποθήκευση προβλέψεων\n",
    "future_predictions = []\n",
    "\n",
    "# Έλεγχος NaN τιμών και αντικατάστασή τους αν χρειάζεται\n",
    "if latest_features.isnull().any():\n",
    "    print(\"\\nΕντοπίστηκαν NaN τιμές στην τελευταία γραμμή! Αντικαθίστανται με τον μέσο όρο των χαρακτηριστικών.\")\n",
    "    latest_features = latest_features.fillna(X_train.mean())"
   ],
   "id": "73bb8228556d3908"
  },
  {
   "metadata": {},
   "cell_type": "code",
   "outputs": [],
   "execution_count": null,
   "source": [
    "# Απενεργοποιεί όλα τα warnings\n",
    "warnings.filterwarnings(\"ignore\")\n",
    "\n",
    "# Ενσωμάτωση μοντέλου SVR (από πριν εκπαιδευμένο)\n",
    "print(\"\\nΈναρξη Δημιουργίας Προβλέψεων:\")\n",
    "for i, date in enumerate(future_dates):\n",
    "    # Κανονικοποιούμε την τελευταία γραμμή με βάση τα mean και std των δεδομένων εκπαίδευσης\n",
    "    latest_features_scaled = (latest_features - X_train.mean()) / X_train.std()\n",
    "\n",
    "    # Αν υπάρχουν NaN μετά την κανονικοποίηση, τα αντικαθιστούμε με 0\n",
    "    if np.any(np.isnan(latest_features_scaled)):\n",
    "        print(f\"Εντοπίστηκε NaN κατά την κανονικοποίηση των δεδομένων για την πρόβλεψη {i + 1}. Αντικαθίστανται με 0.\")\n",
    "        latest_features_scaled = np.nan_to_num(latest_features_scaled)\n",
    "\n",
    "    # Πρόβλεψη για μία ημέρα\n",
    "    prediction = svr.predict([latest_features_scaled])[0]  # Εκτέλεση πρόβλεψης με το μοντέλο\n",
    "    future_predictions.append(prediction)\n",
    "    print(f\"Πρόβλεψη για {date.date()}: {prediction}\")\n",
    "\n",
    "    # Ενημερώνουμε το τελευταίο feature με την πρόβλεψη για τη νέα τιμή\n",
    "    latest_features[\"7- Day Standard Deviation of Daily Returns_lag_7\"] = prediction"
   ],
   "id": "32fcfa6d4c59034e"
  },
  {
   "metadata": {},
   "cell_type": "code",
   "outputs": [],
   "execution_count": null,
   "source": [
    "# Δημιουργία DataFrame για μελλοντικές προβλέψεις\n",
    "future_df = pd.DataFrame({\n",
    "    \"Date\": future_dates,\n",
    "    \"Prediction\": future_predictions\n",
    "})\n",
    "\n",
    "# Εκτύπωση DataFrame\n",
    "print(\"\\nΠροβλέψεις για τις Επόμενες 7 Ημέρες:\")\n",
    "print(future_df)"
   ],
   "id": "3bf0e4ca176a6cf8"
  },
  {
   "metadata": {},
   "cell_type": "markdown",
   "source": "# <span style=\"color:yellow\">Οπτικοποίηση Αποτελεσμάτων",
   "id": "a86c2b5102d9906b"
  },
  {
   "metadata": {},
   "cell_type": "code",
   "outputs": [],
   "execution_count": null,
   "source": [
    "# Δημιουργία του διαγράμματος για το Training Set\n",
    "plt.figure(figsize=(12, 6))\n",
    "\n",
    "# Προβολή των πραγματικών τιμών (y_train) στο διάγραμμα\n",
    "plt.plot(y_train.values, label=\"Πραγματικές Τιμές\", color=\"blue\", linestyle=\"-\")\n",
    "\n",
    "# Προβολή των προβλέψεων του μοντέλου (y_train_pred) στο διάγραμμα\n",
    "plt.plot(y_train_pred, label=\"Προβλέψεις\", color=\"green\", linestyle=\"-\")\n",
    "\n",
    "# Προσθήκη τίτλου και ετικετών\n",
    "plt.title(\"Σύγκριση Πραγματικών Τιμών και Προβλέψεων στο Training Set\", fontsize=14)\n",
    "plt.xlabel(\"Αριθμός Παρατήρησης\", fontsize=12)\n",
    "plt.ylabel(\"Τιμή\", fontsize=12)\n",
    "\n",
    "# Προσθήκη υπομνήματος\n",
    "plt.legend()\n",
    "\n",
    "# Εμφάνιση πλέγματος\n",
    "plt.grid(alpha=0.4)\n",
    "\n",
    "# Εμφάνιση του διαγράμματος\n",
    "plt.show()"
   ],
   "id": "bd3c7b855d3bc33f"
  },
  {
   "metadata": {},
   "cell_type": "code",
   "outputs": [],
   "execution_count": null,
   "source": [
    "# Δημιουργία του διαγράμματος\n",
    "plt.figure(figsize=(12, 6))\n",
    "\n",
    "# Προβολή των πραγματικών τιμών (y_test) στο διάγραμμα\n",
    "plt.plot(y_test.values, label=\"Πραγματικές Τιμές\", color=\"blue\", linestyle=\"-\")\n",
    "\n",
    "# Προβολή των προβλέψεων του μοντέλου (y_pred) στο διάγραμμα\n",
    "plt.plot(y_pred, label=\"Προβλέψεις\", color=\"orange\", linestyle=\"-\")\n",
    "\n",
    "# Προσθήκη τίτλου και ετικετών\n",
    "plt.title(\"Σύγκριση Πραγματικών Τιμών και Προβλέψεων\", fontsize=14)\n",
    "plt.xlabel(\"Αριθμός Παρατήρησης\", fontsize=12)\n",
    "plt.ylabel(\"Τιμή\", fontsize=12)\n",
    "\n",
    "# Προσθήκη υπομνήματος\n",
    "plt.legend()\n",
    "\n",
    "# Εμφάνιση πλέγματος\n",
    "plt.grid(alpha=0.4)\n",
    "\n",
    "# Εμφάνιση του διαγράμματος\n",
    "plt.show()"
   ],
   "id": "a21783f7a2d4a1fb"
  },
  {
   "metadata": {},
   "cell_type": "code",
   "outputs": [],
   "execution_count": null,
   "source": [
    "# Υπολογισμός των σφαλμάτων πρόβλεψης (Residuals) για το Training Set\n",
    "residuals_train = y_train.values - y_train_pred\n",
    "\n",
    "# Διάγραμμα Διασποράς για τα Σφάλματα Πρόβλεψης στο Training Set\n",
    "plt.figure(figsize=(12, 6))\n",
    "\n",
    "# Scatter Plot των Σφαλμάτων\n",
    "plt.scatter(range(len(residuals_train)), residuals_train, color=\"purple\", alpha=0.6,\n",
    "            label=\"Σφάλματα Πρόβλεψης (Residuals)\")\n",
    "\n",
    "# Χωριστή γραμμή για το μηδέν (Zero Line)\n",
    "plt.axhline(y=0, color=\"red\", linestyle=\"--\", label=\"Μηδενική Γραμμή (Zero Line)\")\n",
    "\n",
    "# Προσθήκη τίτλου και ετικετών\n",
    "plt.title(\"Διάγραμμα Σφαλμάτων Πρόβλεψης (Residuals) - Training Set\", fontsize=14)\n",
    "plt.xlabel(\"Αριθμός Παρατήρησης\", fontsize=12)\n",
    "plt.ylabel(\"Σφάλμα (Residual)\", fontsize=12)\n",
    "\n",
    "# Προσθήκη Υπομνήματος\n",
    "plt.legend()\n",
    "\n",
    "# Εμφάνιση πλέγματος\n",
    "plt.grid(alpha=0.4)\n",
    "\n",
    "# Εμφάνιση του Διαγράμματος\n",
    "plt.show()"
   ],
   "id": "4e7b45abd7b4d227"
  },
  {
   "metadata": {},
   "cell_type": "code",
   "outputs": [],
   "execution_count": null,
   "source": [
    "# Υπολογισμός των σφαλμάτων πρόβλεψης (Residuals)\n",
    "residuals = y_test.values - y_pred\n",
    "\n",
    "# Διάγραμμα Διασποράς για τα Σφάλματα Πρόβλεψης\n",
    "plt.figure(figsize=(12, 6))\n",
    "\n",
    "# Scatter Plot των Σφάλμάτων\n",
    "plt.scatter(range(len(residuals)), residuals, color=\"purple\", alpha=0.6, label=\"Σφάλματα Πρόβλεψης (Residuals)\")\n",
    "\n",
    "# Χωριστή γραμμή για το μηδέν (Zero Line)\n",
    "plt.axhline(y=0, color=\"red\", linestyle=\"--\", label=\"Μηδενική Γραμμή (Zero Line)\")\n",
    "\n",
    "# Προσθήκη τίτλου και ετικετών\n",
    "plt.title(\"Διάγραμμα Σφαλμάτων Πρόβλεψης (Residuals) - SVR Model\", fontsize=14)\n",
    "plt.xlabel(\"Αριθμός Παρατήρησης\", fontsize=12)\n",
    "plt.ylabel(\"Σφάλμα (Residual)\", fontsize=12)\n",
    "\n",
    "# Προσθήκη Υπομνήματος\n",
    "plt.legend()\n",
    "\n",
    "# Εμφάνιση πλέγματος\n",
    "plt.grid(alpha=0.4)\n",
    "\n",
    "# Εμφάνιση του Διαγράμματος\n",
    "plt.show()"
   ],
   "id": "8945e05cb5143077"
  },
  {
   "metadata": {},
   "cell_type": "code",
   "outputs": [],
   "execution_count": null,
   "source": [
    "# Διάγραμμα Γραμμής για την Εξέλιξη των Σφαλμάτων στο Training Set\n",
    "plt.figure(figsize=(12, 6))\n",
    "\n",
    "# Line Plot για την Εξέλιξη των Σφαλμάτων στο Training Set\n",
    "plt.plot(residuals_train, color=\"orange\", label=\"Σφάλματα Πρόβλεψης (Residuals)\", linewidth=2)\n",
    "\n",
    "# Χωριστή γραμμή για το μηδέν (Zero Line)\n",
    "plt.axhline(y=0, color=\"red\", linestyle=\"--\", label=\"Μηδενική Γραμμή (Zero Line)\")\n",
    "\n",
    "# Προσθήκη τίτλου και ετικετών\n",
    "plt.title(\"Χρονική Εξέλιξη Σφαλμάτων Πρόβλεψης - Training Set\", fontsize=14)\n",
    "plt.xlabel(\"Αριθμός Παρατήρησης\", fontsize=12)\n",
    "plt.ylabel(\"Σφάλμα (Residual)\", fontsize=12)\n",
    "\n",
    "# Προσθήκη Υπομνήματος\n",
    "plt.legend()\n",
    "\n",
    "# Εμφάνιση Πλέγματος\n",
    "plt.grid(alpha=0.4)\n",
    "\n",
    "# Εμφάνιση του Διαγράμματος\n",
    "plt.show()"
   ],
   "id": "880793f03ea20bc7"
  },
  {
   "metadata": {},
   "cell_type": "code",
   "outputs": [],
   "execution_count": null,
   "source": [
    "# Διάγραμμα Γραμμής για την Εξέλιξη των Σφαλμάτων\n",
    "plt.figure(figsize=(12, 6))\n",
    "\n",
    "# Line Plot για την Εξέλιξη των Σφαλμάτων\n",
    "plt.plot(residuals, color=\"orange\", label=\"Σφάλματα Πρόβλεψης (Residuals)\", linewidth=2)\n",
    "\n",
    "# Χωριστή γραμμή για το μηδέν (Zero Line)\n",
    "plt.axhline(y=0, color=\"red\", linestyle=\"--\", label=\"Μηδενική Γραμμή (Zero Line)\")\n",
    "\n",
    "# Προσθήκη τίτλου και ετικετών\n",
    "plt.title(\"Χρονική Εξέλιξη Σφαλμάτων Πρόβλεψης - SVR Model\", fontsize=14)\n",
    "plt.xlabel(\"Αριθμός Παρατήρησης\", fontsize=12)\n",
    "plt.ylabel(\"Σφάλμα (Residual)\", fontsize=12)\n",
    "\n",
    "# Προσθήκη Υπομνήματος\n",
    "plt.legend()\n",
    "\n",
    "# Εμφάνιση Πλέγματος\n",
    "plt.grid(alpha=0.4)\n",
    "\n",
    "# Εμφάνιση του Διαγράμματος\n",
    "plt.show()"
   ],
   "id": "804ba907f4ecc72c"
  },
  {
   "metadata": {},
   "cell_type": "code",
   "outputs": [],
   "execution_count": null,
   "source": [
    "# Φιλτράρισμα του test set, αν χρειάζεται\n",
    "test_data_filtered = y_test.copy()  # Το y_test είναι το test set με τις πραγματικές τιμές\n",
    "\n",
    "# Φιλτράρισμα δεδομένων από την ημερομηνία 2023-11-01 και μετά\n",
    "test_data_filtered = test_data_filtered.loc[\"2023-11-01\":]\n",
    "\n",
    "# Προσθήκη των μελλοντικών προβλέψεων στο test_data_filtered ώστε να έχουν συνεχή καμπύλη\n",
    "test_data_filtered = test_data_filtered.reindex(\n",
    "    test_data_filtered.index.union(future_dates)\n",
    ")  # Προσθήκη των μελλοντικών ημερομηνιών στο index\n",
    "test_data_filtered.loc[future_dates] = future_predictions  # Προσθήκη των προβλέψεων στις νέες ημερομηνίες\n",
    "\n",
    "# Δημιουργία διαγράμματος\n",
    "plt.figure(figsize=(16, 8))\n",
    "\n",
    "# Εμφάνιση ενιαίας μπλε γραμμής (Παρατηρήσεις και Προβλέψεις)\n",
    "plt.plot(\n",
    "    test_data_filtered.index,\n",
    "    test_data_filtered.values,\n",
    "    linestyle='-',\n",
    "    color=\"blue\",\n",
    "    linewidth=2,\n",
    "    label=\"Ενιαία Γραμμή Παρατηρήσεων και Προβλέψεων\"\n",
    ")\n",
    "\n",
    "# Κίτρινα Bullets μόνο για τις Προβλέψεις\n",
    "future_predictions_df = pd.DataFrame({\n",
    "    \"Date\": future_dates,\n",
    "    \"Prediction\": future_predictions\n",
    "}).set_index(\"Date\")\n",
    "plt.scatter(\n",
    "    future_predictions_df.index,\n",
    "    future_predictions_df[\"Prediction\"].values,\n",
    "    color=\"yellow\",\n",
    "    edgecolor=\"black\",\n",
    "    label=\"Προβλέψεις (Bullets)\",\n",
    "    s=80,\n",
    "    zorder=3\n",
    ")\n",
    "\n",
    "# Προσθήκη τίτλων, υπόμνημα και αξόνων\n",
    "plt.title(\"Παρατηρήσεις και Συνέχεια με Προβλέψεις (Από 2023-11-01)\", fontsize=18, fontweight='bold')\n",
    "plt.xlabel(\"Ημερομηνία\", fontsize=15)\n",
    "plt.ylabel(\"Τιμή\", fontsize=15)\n",
    "plt.xticks(rotation=45, fontsize=12)\n",
    "plt.yticks(fontsize=12)\n",
    "plt.grid(True, linestyle='--', alpha=0.6)\n",
    "plt.legend(fontsize=14, loc=\"upper left\")\n",
    "\n",
    "# Βελτιστοποίηση διάταξης\n",
    "plt.tight_layout()\n",
    "\n",
    "# Εμφάνιση διαγράμματος\n",
    "plt.show()"
   ],
   "id": "2b573f0027897a9e"
  },
  {
   "metadata": {},
   "cell_type": "code",
   "outputs": [],
   "execution_count": null,
   "source": [
    "# Οπτικοποίηση προβλέψεων\n",
    "plt.figure(figsize=(10, 6))\n",
    "plt.plot(future_df[\"Date\"], future_df[\"Prediction\"], marker=\"o\", label=\"Πρόβλεψη (Next 7 Days)\", linestyle=\"-\")\n",
    "plt.title(\"Προβλέψεις για τις Επόμενες 7 Ημέρες\", fontsize=16)\n",
    "plt.xlabel(\"Ημερομηνία\", fontsize=14)\n",
    "plt.ylabel(\"Τιμή Πρόβλεψης\", fontsize=14)\n",
    "plt.grid(True)\n",
    "plt.xticks(rotation=45)\n",
    "plt.legend()\n",
    "plt.show()"
   ],
   "id": "e248e0f9de2d5a3d"
  },
  {
   "metadata": {},
   "cell_type": "code",
   "outputs": [],
   "execution_count": null,
   "source": [
    "# Επιλέγουμε τα δεδομένα μόνο για τις τελευταίες 7 παρατηρήσεις\n",
    "actual_last_7 = y_test.values[-7:]  # Οι πραγματικές τιμές για τις τελευταίες 7 ημέρες\n",
    "predicted_last_7 = y_pred[-7:]  # Οι προβλέψεις για τις τελευταίες 7 ημέρες\n",
    "\n",
    "# Δημιουργία διαγράμματος\n",
    "plt.figure(figsize=(10, 6))\n",
    "\n",
    "# Οπτικοποίηση των πραγματικών τιμών (τελευταίες 7 ημέρες)\n",
    "plt.plot(range(1, 8), actual_last_7, label='Πραγματικές Τιμές', color='blue', linestyle='-', marker='o', linewidth=2)\n",
    "\n",
    "# Οπτικοποίηση των προβλέψεων (τελευταίες 7 ημέρες)\n",
    "plt.plot(range(1, 8), predicted_last_7, label='Προβλέψεις', color='red', linestyle='--', marker='x', linewidth=2)\n",
    "\n",
    "# Προσθήκη τίτλου και ετικετών\n",
    "plt.title('Σύγκριση Προβλέψεων με Πραγματικές Τιμές - Τελευταίες 7 Ημέρες', fontsize=14)\n",
    "plt.xlabel('Ημέρα', fontsize=12)\n",
    "plt.xticks(range(1, 8), labels=[f'Ημέρα {i}' for i in range(1, 8)])  # Ονόματα για τις τελευταίες 7 ημέρες\n",
    "plt.ylabel('Μεταβλητότητα', fontsize=12)\n",
    "\n",
    "# Προσθήκη πλέγματος\n",
    "plt.grid(alpha=0.4)\n",
    "\n",
    "# Προσθήκη υπομνήματος\n",
    "plt.legend(fontsize=12)\n",
    "\n",
    "# Εμφάνιση του διαγράμματος\n",
    "plt.show()"
   ],
   "id": "d4943947fdf392f6"
  }
 ],
 "metadata": {
  "kernelspec": {
   "display_name": "Python 3",
   "language": "python",
   "name": "python3"
  },
  "language_info": {
   "codemirror_mode": {
    "name": "ipython",
    "version": 2
   },
   "file_extension": ".py",
   "mimetype": "text/x-python",
   "name": "python",
   "nbconvert_exporter": "python",
   "pygments_lexer": "ipython2",
   "version": "2.7.6"
  }
 },
 "nbformat": 4,
 "nbformat_minor": 5
}
